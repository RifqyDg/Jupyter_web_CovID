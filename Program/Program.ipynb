{
 "cells": [
  {
   "cell_type": "code",
   "execution_count": 10,
   "metadata": {},
   "outputs": [
    {
     "name": "stderr",
     "output_type": "stream",
     "text": [
      "                                                                               \r"
     ]
    },
    {
     "name": "stdout",
     "output_type": "stream",
     "text": [
      "sistem memprediksi anda POSITIF dengan nilai prediksi:  [[0.9186531]]\n"
     ]
    },
    {
     "name": "stderr",
     "output_type": "stream",
     "text": [
      "\r",
      "                                                                               \r"
     ]
    },
    {
     "name": "stdout",
     "output_type": "stream",
     "text": [
      "sistem memprediksi anda NEGATIF dengan nilai prediksi:  [[0.4044328]]\n"
     ]
    },
    {
     "name": "stderr",
     "output_type": "stream",
     "text": [
      "\r",
      "                                                                               \r"
     ]
    },
    {
     "name": "stdout",
     "output_type": "stream",
     "text": [
      "sistem memprediksi anda NEGATIF dengan nilai prediksi:  [[0.16088045]]\n"
     ]
    }
   ],
   "source": [
    "#import machine learning\n",
    "import numpy as np\n",
    "import pandas as pd\n",
    "import sklearn\n",
    "from sklearn import metrics\n",
    "from sklearn.model_selection import train_test_split\n",
    "from neupy import algorithms\n",
    "from IPython.display import display\n",
    "from sklearn.neural_network import MLPClassifier\n",
    "from neupy.layers import *\n",
    "\n",
    "#import tkinter\n",
    "from tkinter import *\n",
    "from tkinter import messagebox\n",
    "\n",
    "#Random seed set\n",
    "from numpy.random import seed\n",
    "seed(777)\n",
    "from tensorflow import set_random_seed\n",
    "set_random_seed(777)\n",
    "\n",
    "#prep and Train Neural Network begin\n",
    "df = pd.read_csv(\"data tugas akhir crossed.csv\")\n",
    "\n",
    "#membuat variabel 'dataset' menjadi data tanpa label\n",
    "dataset = df.values\n",
    "#membuat variabel 'x' menjadi array data simptom tanpa label\n",
    "x = dataset[:,:11]\n",
    "#membuat variabel 'y' menjadi array tipe penyakit tanpa label\n",
    "y = dataset [:,11]\n",
    "\n",
    "#merubah dataset menjadi set training dan testing, dengan stratify dataset y\n",
    "x_train, x_test, y_train, y_test = train_test_split(\n",
    "x, y, test_size=0.1, random_state=777, shuffle=True, stratify=y)\n",
    "\n",
    "\n",
    "#membuat Jaringan Saraf Tiruan metode backpropagation dengan jumlah HIDDEN LAYER 2, dan NEURON pada HIDDEN LAYER 7\n",
    "network = join(Input(11),Sigmoid(7),Sigmoid(7), Sigmoid(1))\n",
    "#metode Backpropagation dengan LEARNING RATE 0.1\n",
    "optimizer = algorithms.Momentum(network,step=0.1)\n",
    "#training metode backpropagation \n",
    "optimizer.train(x_train, y_train, x_test, y_test, epochs=200)\n",
    "\n",
    "#tkinter window\n",
    "if __name__ == '__main__':\n",
    "    root = Tk()\n",
    "    root.title(\"Aplikasi Identifikasi COVID-19\")\n",
    "    root.geometry(\"500x500\")\n",
    "\n",
    "#nampilin menampilkan prediksi covid atau negatif\n",
    "def show_result():\n",
    "    #memasukkan variabel dari user untuk diprediksi oleh sistem\n",
    "    pred = np.array((var1.get(), var7.get(), var2.get(), var8.get(), var3.get(), var9.get(), var4.get(), var10.get(), var5.get(), var11.get(), var6.get()))\n",
    "    #memprediksi hasil user dan memasukkanya ke variabel \"p\" dengan bentuk float\n",
    "    p=optimizer.predict(pred)\n",
    "    #actual adalah hasil prediksi yang di sederhanakan\n",
    "    actual=0\n",
    "    #jika hasil prediksi lebih dari samadengan 0.5 maka hasil akan menjadi positif\n",
    "    if (p >= 0.5):\n",
    "        actual=1\n",
    "    #jika hasil prediksi kurang dari samadengan 0.5 maka hasil menjadi negatif\n",
    "    else:\n",
    "        actual=0\n",
    "\n",
    "    #jika hasil 1, atau positif, maka mengeluarkan message box dengan prediksi positif\n",
    "    if (actual == 1):\n",
    "        print('sistem memprediksi anda POSITIF dengan nilai prediksi: ',p)\n",
    "        messagebox.showinfo('Sistem Memprediksi','POSITIF',icon='error')\n",
    "    #jika hasil 0 atau NEGATIF, maka mengeluarkan message box dengan prediksi negatif\n",
    "    elif(actual == 0):\n",
    "        print('sistem memprediksi anda NEGATIF dengan nilai prediksi: ',p)\n",
    "        messagebox.showinfo('Sistem Memprediksi','NEGATIF' )\n",
    "    else:\n",
    "        print('error')\n",
    "        messagebox.showinfo('Sistem mengalami Error','sistem mengalami error')\n",
    "\n",
    "#text gejala yang dialami di tengah\n",
    "Label(root, text=\"Gejala yang dialami:\").grid(row=0,column=4, sticky=W)\n",
    "\n",
    "#Checkboxes variable gejala-gejala yang dialami\n",
    "var1 = IntVar()\n",
    "Checkbutton(root, text=\"Batuk-Batuk\", variable=var1).grid(row=1,column=3, sticky=W)\n",
    "var2 = IntVar()\n",
    "Checkbutton(root, text=\"Sesak Nafas\", variable=var2).grid(row=2,column=3, sticky=W)\n",
    "var3 = IntVar()\n",
    "Checkbutton(root, text=\"Sakit Tenggorokan\", variable=var3).grid(row=3,column=3, sticky=W)\n",
    "var4 = IntVar()\n",
    "Checkbutton(root, text=\"Mual-Mual\", variable=var4).grid(row=4,column=3, sticky=W)\n",
    "var5 = IntVar()\n",
    "Checkbutton(root, text=\"Menggigil\", variable=var5).grid(row=5,column=3, sticky=W)\n",
    "var6 = IntVar()\n",
    "Checkbutton(root, text=\"Diare\", variable=var6).grid(row=6,column=3, sticky=W)\n",
    "var7 = IntVar()\n",
    "Checkbutton(root, text=\"Demam\", variable=var7).grid(row=1,column=5, sticky=W)\n",
    "var8 = IntVar()\n",
    "Checkbutton(root, text=\"Rasa Lelah\", variable=var8).grid(row=2,column=5, sticky=W)\n",
    "var9 = IntVar()\n",
    "Checkbutton(root, text=\"Sakit Kepala\", variable=var9).grid(row=3,column=5, sticky=W)\n",
    "var10 = IntVar()\n",
    "Checkbutton(root, text=\"Otot Keram\", variable=var10).grid(row=4,column=5, sticky=W)\n",
    "var11 = IntVar()\n",
    "Checkbutton(root, text=\"Pilek\", variable=var11).grid(row=5,column=5, sticky=W)\n",
    "\n",
    "#tombol untuk keluar\n",
    "Button(root, text='Keluar', command=root.quit).grid(row=12,column=4, sticky=W, pady=4)\n",
    "#tombol tombol submit\n",
    "Button(root, text='Submit', command=show_result).grid(row=12,column=5, sticky=W, pady=4)\n",
    "\n",
    "mainloop()"
   ]
  },
  {
   "cell_type": "code",
   "execution_count": null,
   "metadata": {},
   "outputs": [],
   "source": []
  }
 ],
 "metadata": {
  "kernelspec": {
   "display_name": "Python 3",
   "language": "python",
   "name": "python3"
  },
  "language_info": {
   "codemirror_mode": {
    "name": "ipython",
    "version": 3
   },
   "file_extension": ".py",
   "mimetype": "text/x-python",
   "name": "python",
   "nbconvert_exporter": "python",
   "pygments_lexer": "ipython3",
   "version": "3.7.6"
  }
 },
 "nbformat": 4,
 "nbformat_minor": 4
}
